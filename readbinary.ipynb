{
 "cells": [
  {
   "cell_type": "code",
   "execution_count": 1,
   "metadata": {},
   "outputs": [],
   "source": [
    "import numpy as np\n",
    "import math\n",
    "import csv"
   ]
  },
  {
   "cell_type": "code",
   "execution_count": 6,
   "metadata": {},
   "outputs": [
    {
     "data": {
      "text/plain": [
       "(3, 512)"
      ]
     },
     "execution_count": 6,
     "metadata": {},
     "output_type": "execute_result"
    }
   ],
   "source": [
    "data=np.load('../output1.npy')\n",
    "data.shape"
   ]
  },
  {
   "cell_type": "code",
   "execution_count": 7,
   "metadata": {},
   "outputs": [],
   "source": [
    "def euclidean_dist(array):\n",
    "    i=0;\n",
    "    submission=0.0\n",
    "    total=0.0;\n",
    "    x=array.shape\n",
    "    for i in range(x[0]):\n",
    "        for j in range(x[1]):\n",
    "            submission+=pow((array[0][j]-array[i][j]),2)\n",
    "        total+=math.sqrt(submission)\n",
    "    total=total/x[0]\n",
    "    print(total)\n",
    "    if total<=0.7403513970010347:\n",
    "        return 1;\n",
    "    #file=open('/home/miglani/docface/list of images/threshold.csv','a')\n",
    "#     with open('/home/miglani/docface/list of images/threshold.csv','a') as f:\n",
    "#             writer = csv.writer(f)\n",
    "#             writer.writerow([total])"
   ]
  },
  {
   "cell_type": "code",
   "execution_count": 8,
   "metadata": {},
   "outputs": [
    {
     "name": "stdout",
     "output_type": "stream",
     "text": [
      "0.4782559902219384\n",
      "verified\n"
     ]
    }
   ],
   "source": [
    "x=euclidean_dist(data)\n",
    "if(x):\n",
    "    print(\"verified\")\n",
    "else:\n",
    "    print(\"not verified\")"
   ]
  },
  {
   "cell_type": "code",
   "execution_count": 11,
   "metadata": {},
   "outputs": [
    {
     "data": {
      "text/plain": [
       "2"
      ]
     },
     "execution_count": 11,
     "metadata": {},
     "output_type": "execute_result"
    }
   ],
   "source": []
  },
  {
   "cell_type": "code",
   "execution_count": null,
   "metadata": {},
   "outputs": [],
   "source": []
  }
 ],
 "metadata": {
  "kernelspec": {
   "display_name": "Python 3",
   "language": "python",
   "name": "python3"
  },
  "language_info": {
   "codemirror_mode": {
    "name": "ipython",
    "version": 3
   },
   "file_extension": ".py",
   "mimetype": "text/x-python",
   "name": "python",
   "nbconvert_exporter": "python",
   "pygments_lexer": "ipython3",
   "version": "3.5.2"
  }
 },
 "nbformat": 4,
 "nbformat_minor": 2
}
